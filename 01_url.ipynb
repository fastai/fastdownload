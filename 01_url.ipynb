{
 "cells": [
  {
   "cell_type": "code",
   "execution_count": null,
   "id": "89fe6b40",
   "metadata": {},
   "outputs": [],
   "source": [
    "# default_exp url"
   ]
  },
  {
   "cell_type": "markdown",
   "id": "2c64ff67",
   "metadata": {},
   "source": [
    "## URL"
   ]
  },
  {
   "cell_type": "code",
   "execution_count": null,
   "id": "3322326e",
   "metadata": {},
   "outputs": [],
   "source": [
    "# export\n",
    "import json\n",
    "import warnings\n",
    "from nbdev.showdoc import *\n",
    "from fastprogress.fastprogress import progress_bar\n",
    "from fastcore.all import *\n",
    "from fastdownload.helper import *"
   ]
  },
  {
   "cell_type": "code",
   "execution_count": null,
   "id": "cb34f97c-fba3-4295-ba0d-93efed1fb911",
   "metadata": {},
   "outputs": [],
   "source": [
    "# export \n",
    "def _check_present(url_meta):\n",
    "    # TODO: Is there a better way?\n",
    "    return len(url_meta)==3"
   ]
  },
  {
   "cell_type": "code",
   "execution_count": null,
   "id": "22052bd2-61fd-4e71-b271-19ffe61d50ce",
   "metadata": {},
   "outputs": [],
   "source": [
    "# export \n",
    "def _get_dset_name(url):    \n",
    "    checks = json.load(open(Path(__file__).parent/'checks.txt', 'r'))\n",
    "    for key, val in checks.items(): \n",
    "        if val[0]==url: return key \n",
    "    else: raise ValueError(f\"No dataset exists at {Path(__file__).parent/'checks.txt'} for url - {url}\")"
   ]
  },
  {
   "cell_type": "code",
   "execution_count": null,
   "id": "241f03c4-8801-4689-a835-c02a922e43fc",
   "metadata": {},
   "outputs": [],
   "source": [
    "# export\n",
    "def _add_check(fpath, url):\n",
    "    \"Internal function to update the internal check file with `url` and check on `fname`.\"\n",
    "    checks = json.load(open(Path(__file__).parent/'checks.txt', 'r'))\n",
    "    dset_name = _get_dset_name(url)\n",
    "    checks[dset_name] = [url] + _check_file(fpath)\n",
    "    json.dump(checks, open(Path(__file__).parent/'checks.txt', 'w'), indent=2)"
   ]
  },
  {
   "cell_type": "code",
   "execution_count": null,
   "id": "f00f0168-4a3f-4313-a304-ffaab233e24c",
   "metadata": {},
   "outputs": [],
   "source": [
    "# export\n",
    "def _check_file(fpath):\n",
    "    \"internal function to get the hash of the local file at `fname`.\"\n",
    "    size = os.path.getsize(fpath)\n",
    "    with open(fpath, \"rb\") as f: hash_nb = hashlib.md5(f.read(2**20)).hexdigest()\n",
    "    return [size,hash_nb]"
   ]
  },
  {
   "cell_type": "code",
   "execution_count": null,
   "id": "44cb6c3c-85c5-43e3-b5be-5c119ed965d3",
   "metadata": {},
   "outputs": [],
   "source": [
    "# export \n",
    "def _get_check(url):\n",
    "    \"internal function to get the hash of the file at `url`.\"\n",
    "    checks = json.load(open(Path(__file__).parent/'checks.txt', 'r'))\n",
    "    dset_name = _get_dset_name(url)\n",
    "    return checks.get(dset_name)[1:]"
   ]
  },
  {
   "cell_type": "code",
   "execution_count": null,
   "id": "4a42300f-12d4-4920-9bb0-f804259f9dd1",
   "metadata": {},
   "outputs": [],
   "source": [
    "# export\n",
    "def _get_URLs():\n",
    "    \"internal function to get the URLs from `checks.txt`\"\n",
    "    URLs = json.load(open(Path(__file__).parent/'checks.txt', 'r'))\n",
    "    return dict2obj(URLs)"
   ]
  },
  {
   "cell_type": "code",
   "execution_count": null,
   "id": "ad6e347b",
   "metadata": {},
   "outputs": [
    {
     "ename": "NameError",
     "evalue": "name '__file__' is not defined",
     "output_type": "error",
     "traceback": [
      "\u001b[0;31m---------------------------------------------------------------------------\u001b[0m",
      "\u001b[0;31mNameError\u001b[0m                                 Traceback (most recent call last)",
      "\u001b[0;32m<ipython-input-15-97fec455c2fe>\u001b[0m in \u001b[0;36m<module>\u001b[0;34m\u001b[0m\n\u001b[1;32m      1\u001b[0m \u001b[0;31m# export\u001b[0m\u001b[0;34m\u001b[0m\u001b[0;34m\u001b[0m\u001b[0;34m\u001b[0m\u001b[0m\n\u001b[0;32m----> 2\u001b[0;31m \u001b[0mURLs\u001b[0m \u001b[0;34m=\u001b[0m \u001b[0m_get_URLs\u001b[0m\u001b[0;34m(\u001b[0m\u001b[0;34m)\u001b[0m\u001b[0;34m\u001b[0m\u001b[0;34m\u001b[0m\u001b[0m\n\u001b[0m",
      "\u001b[0;32m<ipython-input-14-2de34b306ee8>\u001b[0m in \u001b[0;36m_get_URLs\u001b[0;34m()\u001b[0m\n\u001b[1;32m      2\u001b[0m \u001b[0;32mdef\u001b[0m \u001b[0m_get_URLs\u001b[0m\u001b[0;34m(\u001b[0m\u001b[0;34m)\u001b[0m\u001b[0;34m:\u001b[0m\u001b[0;34m\u001b[0m\u001b[0;34m\u001b[0m\u001b[0m\n\u001b[1;32m      3\u001b[0m     \u001b[0;34m\"internal function to get the URLs from `checks.txt`\"\u001b[0m\u001b[0;34m\u001b[0m\u001b[0;34m\u001b[0m\u001b[0m\n\u001b[0;32m----> 4\u001b[0;31m     \u001b[0mURLs\u001b[0m \u001b[0;34m=\u001b[0m \u001b[0mjson\u001b[0m\u001b[0;34m.\u001b[0m\u001b[0mload\u001b[0m\u001b[0;34m(\u001b[0m\u001b[0mopen\u001b[0m\u001b[0;34m(\u001b[0m\u001b[0mPath\u001b[0m\u001b[0;34m(\u001b[0m\u001b[0m__file__\u001b[0m\u001b[0;34m)\u001b[0m\u001b[0;34m.\u001b[0m\u001b[0mparent\u001b[0m\u001b[0;34m/\u001b[0m\u001b[0;34m'checks.txt'\u001b[0m\u001b[0;34m,\u001b[0m \u001b[0;34m'r'\u001b[0m\u001b[0;34m)\u001b[0m\u001b[0;34m)\u001b[0m\u001b[0;34m\u001b[0m\u001b[0;34m\u001b[0m\u001b[0m\n\u001b[0m\u001b[1;32m      5\u001b[0m     \u001b[0;32mreturn\u001b[0m \u001b[0mdict2obj\u001b[0m\u001b[0;34m(\u001b[0m\u001b[0mURLs\u001b[0m\u001b[0;34m)\u001b[0m\u001b[0;34m\u001b[0m\u001b[0;34m\u001b[0m\u001b[0m\n",
      "\u001b[0;31mNameError\u001b[0m: name '__file__' is not defined"
     ]
    }
   ],
   "source": [
    "# export\n",
    "URLs = _get_URLs()"
   ]
  },
  {
   "cell_type": "code",
   "execution_count": null,
   "id": "e04c48a3",
   "metadata": {},
   "outputs": [],
   "source": [
    "# export\n",
    "class FastDownload:\n",
    "    def __init__(self, cfg=None, dir='~/.fastai', archive_path=None, data_path=None, overwrite=False):\n",
    "        config = Config() if cfg is None else cfg\n",
    "        data_path = data_path or config['data']\n",
    "        archive_path = archive_path or config['archive']\n",
    "        store_attr('data_path, archive_path')\n",
    "    \n",
    "    def download(self, url_meta, dest=None):\n",
    "        url = url_meta[0]\n",
    "        fname = Path(url.split('/')[-1])\n",
    "        fpath = self.archive_path/fname\n",
    "        dest  = self.data_path/fname.with_suffix('')\n",
    "        if not dest.exists():\n",
    "            fpath = download_data(src=url, dest=fpath)\n",
    "            if not _check_present(url_meta): _add_check(fpath, url)\n",
    "            if _get_check(url) and _check_file(fpath) != _get_check(url):\n",
    "                warnings.warn(f\"File downloaded seems broken. Remove {fname} and try again.\")\n",
    "            file_extract(fpath, dest.parent)\n",
    "        return dest"
   ]
  },
  {
   "cell_type": "markdown",
   "id": "1cfa23cb",
   "metadata": {},
   "source": [
    "## Export"
   ]
  },
  {
   "cell_type": "code",
   "execution_count": null,
   "id": "52d848a4",
   "metadata": {},
   "outputs": [
    {
     "name": "stdout",
     "output_type": "stream",
     "text": [
      "Converted 00_helpers.ipynb.\n",
      "Converted 01_url.ipynb.\n",
      "Converted index.ipynb.\n"
     ]
    }
   ],
   "source": [
    "#hide\n",
    "from nbdev.export import notebook2script\n",
    "notebook2script()"
   ]
  },
  {
   "cell_type": "code",
   "execution_count": null,
   "id": "95cab8df-8c1d-48c2-b5d8-378718f02949",
   "metadata": {},
   "outputs": [],
   "source": []
  }
 ],
 "metadata": {
  "kernelspec": {
   "display_name": "Python 3",
   "language": "python",
   "name": "python3"
  }
 },
 "nbformat": 4,
 "nbformat_minor": 5
}
